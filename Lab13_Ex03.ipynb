{
 "cells": [
  {
   "cell_type": "markdown",
   "metadata": {},
   "source": [
    "# Lab 13 Exercise 3"
   ]
  },
  {
   "cell_type": "markdown",
   "metadata": {},
   "source": [
    "## Polymorphism กับ Method Parameters"
   ]
  },
  {
   "cell_type": "markdown",
   "metadata": {},
   "source": [
    "Polymorphism ในบริบทของ Method Parameters หมายถึงความสามารถของ method ที่จะรับวัตถุที่มีชนิดข้อมูลแตกต่างกัน แต่มีพื้นฐานมาจาก base class เดียวกัน หรือมีการใช้อินเทอร์เฟซ (interface) ร่วมกัน\n",
    "\n",
    "\n",
    "### การรับวัตถุจาก base class\n",
    "\n",
    "method สามารถรับพารามิเตอร์ที่เป็นชนิดของ base class ได้ และเมื่อมีการส่งวัตถุของ derived class เข้าไป,  method นั้นจะสามารถทำงานกับวัตถุของ derived class ได้เช่นกัน เนื่องจาก derived class สืบทอดมาจาก base class , วัตถุของ derived class จึงมีคุณสมบัติและ method ของ base class , ทำให้สามารถส่งเข้าไปใน method ที่รับพารามิเตอร์เป็นชนิดของ base class ได้\n",
    "\n",
    "### การใช้อินเทอร์เฟซ\n",
    "\n",
    "อินเทอร์เฟซทำหน้าที่กำหนดสัญญา (contract) ที่คลาสต้องปฏิบัติตาม\n",
    "\n",
    "method สามารถรับพารามิเตอร์ที่เป็นชนิดของอินเทอร์เฟซได้ และเมื่อมีการส่งวัตถุของคลาสที่ implement อินเทอร์เฟซนั้นเข้าไป,  method จะสามารถทำงานกับวัตถุนั้นได้\n",
    "การใช้อินเทอร์เฟซช่วยให้โค้ดมีความยืดหยุ่นมากขึ้น เพราะสามารถทำงานกับวัตถุใด ๆ ก็ตามที่ implement อินเทอร์เฟซนั้น\n",
    "\n",
    "**หมายเหตุ** \n",
    "\n",
    "เรื่อง interface จะอยู่ในใบงานเรื่อง interface "
   ]
  },
  {
   "cell_type": "markdown",
   "metadata": {},
   "source": [
    "1.สร้าง console application project ชื่อ Lab09_Ex03"
   ]
  },
  {
   "cell_type": "markdown",
   "metadata": {},
   "source": [
    "2.เปลี่ยน code ให้เป็นดังต่อไปนี้\n",
    "\n",
    "```csharp\n",
    "public class Animal\n",
    "{\n",
    "    public virtual void makeSound()\n",
    "    {\n",
    "        Console.WriteLine(\"Animal makes a sound\");\n",
    "    }\n",
    "}\n",
    "\n",
    "public class Dog : Animal\n",
    "{\n",
    "    public override void makeSound()\n",
    "    {\n",
    "        Console.WriteLine(\"Dog barks\");\n",
    "    }\n",
    "}\n",
    "\n",
    "public class Cat : Animal\n",
    "{\n",
    "    public override void makeSound()\n",
    "    {\n",
    "        Console.WriteLine(\"Cat meows\");\n",
    "    }\n",
    "}\n",
    "\n",
    "public class AnimalSound\n",
    "{\n",
    "    public void PlaySound(Animal animal)\n",
    "    {\n",
    "        animal.makeSound();\n",
    "    }\n",
    "}\n",
    "\n",
    "AnimalSound sound = new AnimalSound();\n",
    "Animal dog = new Dog();\n",
    "Animal cat = new Cat();\n",
    "\n",
    "sound.PlaySound(dog); \n",
    "sound.PlaySound(cat); \n",
    "```"
   ]
  },
  {
   "cell_type": "markdown",
   "metadata": {},
   "source": [
    "3.Build project โดยการใช้คำสั่ง\n",
    "\n",
    "```cmd\n",
    "dotnet build  Lab13_Ex03\n",
    "```\n",
    "\n",
    "ถ้ามีที่ผิดพลาดในโปรแกรม ให้แก้ไขให้ถูกต้อง\n",
    "\n"
   ]
  },
  {
   "cell_type": "markdown",
   "metadata": {},
   "source": [
    "4.บันทึกผลที่ได้จากการรันคำสั่งในข้อ 3\n",
    "\n"
   ]
  },
  {
   "attachments": {
    "image.png": {
     "image/png": "[encoded data removed]"
    }
   },
   "cell_type": "markdown",
   "metadata": {},
   "source": [
    "![image.png](attachment:image.png)"
   ]
  },
  {
   "cell_type": "markdown",
   "metadata": {},
   "source": [
    "5.Run project โดยการใช้คำสั่ง\n",
    "\n",
    "```cmd\n",
    "dotnet run --project Lab13_Ex03\n",
    "```\n",
    "\n"
   ]
  },
  {
   "cell_type": "markdown",
   "metadata": {},
   "source": [
    "6.บันทึกผลที่ได้จากการรันคำสั่งในข้อ 5\n"
   ]
  },
  {
   "attachments": {
    "image.png": {
     "image/png": "[encoded data removed]"
    }
   },
   "cell_type": "markdown",
   "metadata": {},
   "source": [
    "![image.png](attachment:image.png)"
   ]
  },
  {
   "cell_type": "markdown",
   "metadata": {},
   "source": [
    "7.อธิบายสิ่งที่พบในการทดลอง"
   ]
  },
  {
   "cell_type": "markdown",
   "metadata": {},
   "source": [
    "สรุป\n",
    "1. Polymorphism ช่วยให้สามารถเรียกเมธอดของคลาสลูกได้ แม้จะใช้ Reference Type เป็นคลาสแม่\n",
    "2. ต้องใช้ virtual และ override เพื่อให้ Dynamic Dispatch ทำงาน\n",
    "3. หากไม่ใช้ virtual → C# จะใช้เมธอดของคลาสแม่เสมอ (Method Hiding)\n",
    "\n",
    "เหมาะสำหรับการออกแบบระบบที่ต้องรองรับการเปลี่ยนพฤติกรรมของอ็อบเจ็กต์โดยไม่ต้องแก้ไขโค้ดที่เรียกใช้งาน!"
   ]
  }
 ],
 "metadata": {
  "kernelspec": {
   "display_name": ".NET (C#)",
   "language": "C#",
   "name": ".net-csharp"
  },
  "polyglot_notebook": {
   "kernelInfo": {
    "defaultKernelName": "csharp",
    "items": [
     {
      "aliases": [],
      "languageName": "csharp",
      "name": "csharp"
     }
    ]
   }
  }
 },
 "nbformat": 4,
 "nbformat_minor": 2
}
