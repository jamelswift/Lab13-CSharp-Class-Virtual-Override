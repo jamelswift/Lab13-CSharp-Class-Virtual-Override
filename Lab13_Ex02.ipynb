{
 "cells": [
  {
   "cell_type": "markdown",
   "metadata": {},
   "source": [
    "# Lab 13 Exercise 2"
   ]
  },
  {
   "cell_type": "markdown",
   "metadata": {},
   "source": [
    "## Polymorphism กับ property"
   ]
  },
  {
   "cell_type": "markdown",
   "metadata": {},
   "source": [
    "เราสามารถใช้ overridden properties ใน derived class เพื่อให้วัตถุของ derived class มีพฤติกรรมที่แตกต่างไปจาก base class  เมื่อเข้าถึงหรือกำหนดค่าของ Property นั้น ๆ ได้เช่นเดียวกับการใช้งาน overridden methods\n",
    "\n",
    "### Virtual Properties:\n",
    "ต้องประกาศ virtual property ไว้ใน base class เพื่อระบุว่ามันสามารถถูกแทนที่ใน derived class ได้ ช่วยให้ derived class สามารถปรับเปลี่ยนพฤติกรรมของการเข้าถึงหรือกำหนดค่า Property ได้\n",
    "\n",
    "### Overridden Properties:\n",
    "ต้องประกาศ  override property ไว้ใน derived class เพื่อแทนที่ virtual roperty ใน base class  สามารถให้ผลการทำงานที่แตกต่างออกไปสำหรับ Property นั้น ๆ"
   ]
  },
  {
   "cell_type": "markdown",
   "metadata": {},
   "source": [
    "1.สร้าง console application project ชื่อ Lab09_Ex02"
   ]
  },
  {
   "cell_type": "markdown",
   "metadata": {},
   "source": [
    "2.เปลี่ยน code ให้เป็นดังต่อไปนี้\n",
    "\n",
    "```csharp\n",
    "BaseClass bcRef = new DerivedClass();\n",
    "System.Console.WriteLine(bcRef.Data);\n",
    "\n",
    "class BaseClass\n",
    "{\n",
    "    virtual public string Data \n",
    "    { \n",
    "        get \n",
    "        { \n",
    "            return \"Base Data\"; \n",
    "        } \n",
    "    }\n",
    "}\n",
    "\n",
    "class DerivedClass : BaseClass\n",
    "{\n",
    "    override public string Data \n",
    "    { \n",
    "        get \n",
    "        { \n",
    "            return \"Derived Data\"; \n",
    "        } \n",
    "    }\n",
    "}\n",
    "```"
   ]
  },
  {
   "cell_type": "markdown",
   "metadata": {},
   "source": [
    "3.Build project โดยการใช้คำสั่ง\n",
    "\n",
    "```cmd\n",
    "dotnet build  Lab13_Ex02\n",
    "```\n",
    "\n",
    "ถ้ามีที่ผิดพลาดในโปรแกรม ให้แก้ไขให้ถูกต้อง\n",
    "\n"
   ]
  },
  {
   "cell_type": "markdown",
   "metadata": {},
   "source": [
    "4.บันทึกผลที่ได้จากการรันคำสั่งในข้อ 3\n",
    "\n"
   ]
  },
  {
   "attachments": {
    "image.png": {
     "image/png": "[encoded data removed]"
    }
   },
   "cell_type": "markdown",
   "metadata": {},
   "source": [
    "![image.png](attachment:image.png)"
   ]
  },
  {
   "cell_type": "markdown",
   "metadata": {},
   "source": [
    "5.Run project โดยการใช้คำสั่ง\n",
    "\n",
    "```cmd\n",
    "dotnet run --project Lab13_Ex02\n",
    "```\n",
    "\n"
   ]
  },
  {
   "cell_type": "markdown",
   "metadata": {},
   "source": [
    "6.บันทึกผลที่ได้จากการรันคำสั่งในข้อ 5\n"
   ]
  },
  {
   "attachments": {
    "image.png": {
     "image/png": "[encoded data removed]"
    }
   },
   "cell_type": "markdown",
   "metadata": {},
   "source": [
    "![image.png](attachment:image.png)"
   ]
  },
  {
   "cell_type": "markdown",
   "metadata": {},
   "source": [
    "\n",
    "7.อธิบายสิ่งที่พบในการทดลอง"
   ]
  },
  {
   "cell_type": "markdown",
   "metadata": {},
   "source": [
    "สรุปข้อสังเกตจากการทดลอง\n",
    "1. Property ที่เป็น virtual สามารถ Override ได้\n",
    "2. ถ้าประกาศ BaseClass bcRef = new DerivedClass(); และ Property ถูก Override → จะใช้ค่าจากคลาสลูก (DerivedClass)\n",
    "3. ถ้าไม่ใช้ virtual → Property ของคลาสแม่จะถูกเรียกเสมอ แม้ว่าจะมี Property ชื่อเดียวกันในคลาสลูก\n",
    "4. หลักการเดียวกับ Method Overriding แต่ใช้กับ Property"
   ]
  }
 ],
 "metadata": {
  "kernelspec": {
   "display_name": ".NET (C#)",
   "language": "C#",
   "name": ".net-csharp"
  },
  "polyglot_notebook": {
   "kernelInfo": {
    "defaultKernelName": "csharp",
    "items": [
     {
      "aliases": [],
      "languageName": "csharp",
      "name": "csharp"
     }
    ]
   }
  }
 },
 "nbformat": 4,
 "nbformat_minor": 2
}
